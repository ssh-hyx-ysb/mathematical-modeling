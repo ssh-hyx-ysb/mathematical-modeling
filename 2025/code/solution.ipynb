{
 "cells": [
  {
   "cell_type": "code",
   "execution_count": 4,
   "id": "d4455fe9",
   "metadata": {},
   "outputs": [],
   "source": [
    "import matplotlib.pyplot as plt\n",
    "import matplotlib\n",
    "import numpy as np\n",
    "import pandas as pd"
   ]
  },
  {
   "cell_type": "code",
   "execution_count": 3,
   "id": "49806de1",
   "metadata": {},
   "outputs": [],
   "source": [
    "fm = matplotlib.font_manager.fontManager\n",
    "fm.addfont(\"./仿宋_GB2312.TTF\")\n",
    "fm.addfont(\"./times.ttf\")\n",
    "\n",
    "# 设置中文字体和负号正常显示,启用LaTeX排版\n",
    "plt.rcParams[\"font.sans-serif\"] = [\"FangSong_GB2312\", \"times\"]\n",
    "plt.rcParams[\"axes.unicode_minus\"] = False"
   ]
  },
  {
   "cell_type": "code",
   "execution_count": null,
   "id": "2342ab39",
   "metadata": {},
   "outputs": [],
   "source": [
    "sic_10 = pd.read_excel(\"../data/附件/附件1.xlsx\")\n",
    "sic_15\n",
    "si_10\n",
    "si_15"
   ]
  }
 ],
 "metadata": {
  "kernelspec": {
   "display_name": "mathematical",
   "language": "python",
   "name": "python3"
  },
  "language_info": {
   "codemirror_mode": {
    "name": "ipython",
    "version": 3
   },
   "file_extension": ".py",
   "mimetype": "text/x-python",
   "name": "python",
   "nbconvert_exporter": "python",
   "pygments_lexer": "ipython3",
   "version": "3.12.10"
  }
 },
 "nbformat": 4,
 "nbformat_minor": 5
}
