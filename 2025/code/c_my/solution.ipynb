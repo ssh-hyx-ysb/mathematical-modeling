{
 "cells": [
  {
   "cell_type": "code",
   "execution_count": null,
   "id": "a51ff3b5",
   "metadata": {},
   "outputs": [],
   "source": [
    "import os\n",
    "\n",
    "import pandas as pd\n",
    "import numpy as np\n",
    "import matplotlib\n",
    "import matplotlib.pyplot as plt\n",
    "from scipy import stats\n",
    "import warnings\n",
    "\n",
    "warnings.filterwarnings(\"ignore\")\n",
    "\n",
    "fm = matplotlib.font_manager.fontManager\n",
    "fm.addfont(\"./仿宋_GB2312.TTF\")\n",
    "fm.addfont(\"./times.ttf\")\n",
    "print(fm)\n",
    "# 设置中文字体和负号正常显示\n",
    "plt.rcParams[\"font.sans-serif\"] = [\"FangSong_GB2312\", \"times\"]\n",
    "plt.rcParams[\"axes.unicode_minus\"] = False\n"
   ]
  }
 ],
 "metadata": {
  "language_info": {
   "name": "python"
  }
 },
 "nbformat": 4,
 "nbformat_minor": 5
}
